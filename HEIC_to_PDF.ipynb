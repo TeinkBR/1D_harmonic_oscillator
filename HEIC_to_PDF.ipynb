{
  "nbformat": 4,
  "nbformat_minor": 0,
  "metadata": {
    "colab": {
      "provenance": [],
      "mount_file_id": "1J28u13CmUfq1GCdz99T7sFFQEKX5I9uf",
      "authorship_tag": "ABX9TyPae01TeQQYA+VyAnMlij6y",
      "include_colab_link": true
    },
    "kernelspec": {
      "name": "python3",
      "display_name": "Python 3"
    },
    "language_info": {
      "name": "python"
    }
  },
  "cells": [
    {
      "cell_type": "markdown",
      "metadata": {
        "id": "view-in-github",
        "colab_type": "text"
      },
      "source": [
        "<a href=\"https://colab.research.google.com/github/TeinkBR/1D_harmonic_oscillator/blob/main/HEIC_to_PDF.ipynb\" target=\"_parent\"><img src=\"https://colab.research.google.com/assets/colab-badge.svg\" alt=\"Open In Colab\"/></a>"
      ]
    },
    {
      "cell_type": "code",
      "source": [
        "!pip install pyheif\n",
        "!pip install img2pdf"
      ],
      "metadata": {
        "colab": {
          "base_uri": "https://localhost:8080/"
        },
        "id": "Kn50CV9OoLsJ",
        "outputId": "2e7f3293-1452-4d49-ac4b-f24eedd3a369"
      },
      "execution_count": 1,
      "outputs": [
        {
          "output_type": "stream",
          "name": "stdout",
          "text": [
            "Looking in indexes: https://pypi.org/simple, https://us-python.pkg.dev/colab-wheels/public/simple/\n",
            "Requirement already satisfied: pyheif in /usr/local/lib/python3.9/dist-packages (0.7.1)\n",
            "Requirement already satisfied: cffi>=1.0.0 in /usr/local/lib/python3.9/dist-packages (from pyheif) (1.15.1)\n",
            "Requirement already satisfied: pycparser in /usr/local/lib/python3.9/dist-packages (from cffi>=1.0.0->pyheif) (2.21)\n",
            "Looking in indexes: https://pypi.org/simple, https://us-python.pkg.dev/colab-wheels/public/simple/\n",
            "Requirement already satisfied: img2pdf in /usr/local/lib/python3.9/dist-packages (0.4.4)\n",
            "Requirement already satisfied: Pillow in /usr/local/lib/python3.9/dist-packages (from img2pdf) (9.4.0)\n",
            "Requirement already satisfied: pikepdf in /usr/local/lib/python3.9/dist-packages (from img2pdf) (7.1.1)\n",
            "Requirement already satisfied: deprecation in /usr/local/lib/python3.9/dist-packages (from pikepdf->img2pdf) (2.1.0)\n",
            "Requirement already satisfied: packaging in /usr/local/lib/python3.9/dist-packages (from pikepdf->img2pdf) (23.0)\n",
            "Requirement already satisfied: lxml>=4.8 in /usr/local/lib/python3.9/dist-packages (from pikepdf->img2pdf) (4.9.2)\n"
          ]
        }
      ]
    },
    {
      "cell_type": "code",
      "source": [
        "from google.colab import drive\n",
        "drive.mount('/content/drive')"
      ],
      "metadata": {
        "colab": {
          "base_uri": "https://localhost:8080/"
        },
        "id": "l7GkKRdVoO6A",
        "outputId": "f790977d-a4bf-4370-f6a9-d2234e9ee8f0"
      },
      "execution_count": 2,
      "outputs": [
        {
          "output_type": "stream",
          "name": "stdout",
          "text": [
            "Drive already mounted at /content/drive; to attempt to forcibly remount, call drive.mount(\"/content/drive\", force_remount=True).\n"
          ]
        }
      ]
    },
    {
      "cell_type": "code",
      "source": [
        "import os\n",
        "\n",
        "input_folder = \"/content/drive/MyDrive/HEIC_to_PDF/\"\n",
        "#file_path[i]= os.path.join(input_folder, \"IMG_5112.HEIC\",\"IMG_5138.HEIC\",\"IMG_5139.HEIC\",\"IMG_5140.HEIC\")\n",
        "\n",
        "#if os.path.exists(file_path):\n",
        " # with open(file_path, \"r\") as f:\n",
        "  #  pass\n",
        "    # Do something with the file\n",
        "#else:\n",
        " # print(\"File not found.\")\n"
      ],
      "metadata": {
        "id": "Mi6UvIk_ojJU"
      },
      "execution_count": 12,
      "outputs": []
    },
    {
      "cell_type": "code",
      "execution_count": 13,
      "metadata": {
        "colab": {
          "base_uri": "https://localhost:8080/"
        },
        "id": "RJ900KnhoHSw",
        "outputId": "8a2a55c2-f7b8-48bc-c0df-be7a07395414"
      },
      "outputs": [
        {
          "output_type": "stream",
          "name": "stdout",
          "text": [
            "Conversion completed successfully!\n"
          ]
        }
      ],
      "source": [
        "import os\n",
        "import sys\n",
        "import pyheif\n",
        "import img2pdf\n",
        "\n",
        "# Function to convert HEIC file to PDF\n",
        "def convert_to_pdf(input_file, output_file):\n",
        "    heif_file = pyheif.read(input_file)\n",
        "    img_bytes = img2pdf.convert(heif_file)\n",
        "    with open(output_file, 'wb') as f:\n",
        "        f.write(img_bytes)\n",
        "\n",
        "# Folder containing the HEIC files\n",
        "#input_folder = \"path/to/heic/files\"\n",
        "\n",
        "# Folder to save the PDF files\n",
        "output_folder = \"/content/drive/MyDrive/HEIC_to_PDF/\"\n",
        "\n",
        "# Loop through the HEIC files in the input folder\n",
        "for filename in os.listdir(input_folder):\n",
        "    if filename.endswith(\".heic\"):\n",
        "        input_file = os.path.join(input_folder, filename)\n",
        "        output_file = os.path.join(output_folder, os.path.splitext(filename)[0] + \".pdf\")\n",
        "        convert_to_pdf(input_file, output_file)\n",
        "\n",
        "print(\"Conversion completed successfully!\")\n"
      ]
    },
    {
      "cell_type": "code",
      "source": [
        "!pip install pyheif pillow reportlab"
      ],
      "metadata": {
        "colab": {
          "base_uri": "https://localhost:8080/"
        },
        "id": "lVgYTo2Dsmhv",
        "outputId": "f34ad9f8-71cc-4940-d43d-716649748c26"
      },
      "execution_count": 14,
      "outputs": [
        {
          "output_type": "stream",
          "name": "stdout",
          "text": [
            "Looking in indexes: https://pypi.org/simple, https://us-python.pkg.dev/colab-wheels/public/simple/\n",
            "Requirement already satisfied: pyheif in /usr/local/lib/python3.9/dist-packages (0.7.1)\n",
            "Requirement already satisfied: pillow in /usr/local/lib/python3.9/dist-packages (9.4.0)\n",
            "Collecting reportlab\n",
            "  Downloading reportlab-3.6.12-cp39-cp39-manylinux_2_17_x86_64.manylinux2014_x86_64.whl (2.8 MB)\n",
            "\u001b[2K     \u001b[90m━━━━━━━━━━━━━━━━━━━━━━━━━━━━━━━━━━━━━━━━\u001b[0m \u001b[32m2.8/2.8 MB\u001b[0m \u001b[31m29.1 MB/s\u001b[0m eta \u001b[36m0:00:00\u001b[0m\n",
            "\u001b[?25hRequirement already satisfied: cffi>=1.0.0 in /usr/local/lib/python3.9/dist-packages (from pyheif) (1.15.1)\n",
            "Requirement already satisfied: pycparser in /usr/local/lib/python3.9/dist-packages (from cffi>=1.0.0->pyheif) (2.21)\n",
            "Installing collected packages: reportlab\n",
            "Successfully installed reportlab-3.6.12\n"
          ]
        }
      ]
    },
    {
      "cell_type": "code",
      "source": [
        "import os\n",
        "import pyheif\n",
        "from PIL import Image\n",
        "from reportlab.lib.pagesizes import letter\n",
        "from reportlab.pdfgen import canvas\n",
        "\n",
        "input_folder = \"/content/drive/MyDrive/HEIC_to_PDF/\"\n",
        "\n",
        "# Function to convert HEIC file to PIL Image\n",
        "def heic_to_image(heic_path):\n",
        "    heif_file = pyheif.read(heic_path)\n",
        "    image = Image.frombytes(\n",
        "        heif_file.mode, \n",
        "        heif_file.size, \n",
        "        heif_file.data,\n",
        "        \"raw\",\n",
        "        heif_file.mode,\n",
        "        heif_file.stride,\n",
        "    )\n",
        "    return image\n",
        "\n",
        "# Find all HEIC files in the input folder\n",
        "heic_files = [os.path.join(input_folder, f) for f in os.listdir(input_folder) if f.lower().endswith(\".heic\")]\n",
        "\n",
        "# Convert HEIC files to PIL Images\n",
        "images = [heic_to_image(heic_path) for heic_path in heic_files]\n",
        "\n",
        "# Create PDF\n",
        "output_pdf_path = os.path.join(input_folder, \"output.pdf\")\n",
        "c = canvas.Canvas(output_pdf_path)\n"
      ],
      "metadata": {
        "id": "GwrejEt7r7m8"
      },
      "execution_count": 15,
      "outputs": []
    },
    {
      "cell_type": "code",
      "source": [
        "import os\n",
        "import sys\n",
        "import pyheif\n",
        "import img2pdf\n",
        "from PIL import Image\n",
        "from io import BytesIO\n",
        "\n",
        "# Function to convert HEIC file to PDF\n",
        "def convert_to_pdf(input_file, output_file):\n",
        "    heif_file = pyheif.read(input_file)\n",
        "    img = Image.frombytes(\n",
        "        heif_file.mode, \n",
        "        heif_file.size, \n",
        "        heif_file.data,\n",
        "        \"raw\",\n",
        "        heif_file.mode,\n",
        "        heif_file.stride,\n",
        "    )\n",
        "    \n",
        "    # Convert image to JPEG in memory\n",
        "    img_buffer = BytesIO()\n",
        "    img.save(img_buffer, format='JPEG')\n",
        "    img_bytes = img_buffer.getvalue()\n",
        "\n",
        "    # Convert JPEG bytes to PDF\n",
        "    pdf_bytes = img2pdf.convert(img_bytes)\n",
        "    with open(output_file, 'wb') as f:\n",
        "        f.write(pdf_bytes)\n",
        "\n",
        "\n",
        "\n",
        "\n",
        "# Folder containing the HEIC files\n",
        "input_folder = \"/content/drive/MyDrive/HEIC_to_PDF/\"\n",
        "\n",
        "# Folder to save the PDF files\n",
        "output_folder = \"/content/drive/MyDrive/HEIC_to_PDF/\"\n",
        "\n",
        "# Loop through the HEIC files in the input folder\n",
        "\n",
        "\n",
        "\n",
        "\n",
        "# Find all HEIC files in the input folder\n",
        "heic_files = [os.path.join(input_folder, f) for f in os.listdir(input_folder) if f.lower().endswith(\".heic\")]\n",
        "\n",
        "# Convert HEIC files to PIL Images\n",
        "images = [heic_to_image(heic_path) for heic_path in heic_files]\n",
        "\n",
        "# Create PDF\n",
        "output_pdf_path = os.path.join(input_folder, \"output.pdf\")\n",
        "c = canvas.Canvas(output_pdf_path)\n",
        "c.save()"
      ],
      "metadata": {
        "id": "UeQG1N-3svrf"
      },
      "execution_count": 22,
      "outputs": []
    },
    {
      "cell_type": "code",
      "source": [
        "import os\n",
        "import pyheif\n",
        "import img2pdf\n",
        "from PIL import Image\n",
        "from io import BytesIO\n",
        "\n",
        "# Function to convert HEIC file to PDF\n",
        "def convert_to_pdf(input_file, output_file):\n",
        "    heif_file = pyheif.read(input_file)\n",
        "    img = Image.frombytes(\n",
        "        heif_file.mode, \n",
        "        heif_file.size, \n",
        "        heif_file.data,\n",
        "        \"raw\",\n",
        "        heif_file.mode,\n",
        "        heif_file.stride,\n",
        "    )\n",
        "\n",
        "    # Convert image to JPEG in memory\n",
        "    img_buffer = BytesIO()\n",
        "    img.save(img_buffer, format='JPEG')\n",
        "    img_bytes = img_buffer.getvalue()\n",
        "\n",
        "    # Convert JPEG bytes to PDF\n",
        "    pdf_bytes = img2pdf.convert(img)"
      ],
      "metadata": {
        "id": "hNLAzVAWtMV0"
      },
      "execution_count": null,
      "outputs": []
    },
    {
      "cell_type": "code",
      "source": [
        "!pip install PyPDF2"
      ],
      "metadata": {
        "colab": {
          "base_uri": "https://localhost:8080/"
        },
        "id": "iLA5vwZyzn3W",
        "outputId": "4213341a-39c1-46e5-8346-ed70a5379655"
      },
      "execution_count": 25,
      "outputs": [
        {
          "output_type": "stream",
          "name": "stdout",
          "text": [
            "Looking in indexes: https://pypi.org/simple, https://us-python.pkg.dev/colab-wheels/public/simple/\n",
            "Collecting PyPDF2\n",
            "  Downloading pypdf2-3.0.1-py3-none-any.whl (232 kB)\n",
            "\u001b[2K     \u001b[90m━━━━━━━━━━━━━━━━━━━━━━━━━━━━━━━━━━━━━━━\u001b[0m \u001b[32m232.6/232.6 KB\u001b[0m \u001b[31m7.6 MB/s\u001b[0m eta \u001b[36m0:00:00\u001b[0m\n",
            "\u001b[?25hRequirement already satisfied: typing_extensions>=3.10.0.0 in /usr/local/lib/python3.9/dist-packages (from PyPDF2) (4.5.0)\n",
            "Installing collected packages: PyPDF2\n",
            "Successfully installed PyPDF2-3.0.1\n"
          ]
        }
      ]
    },
    {
      "cell_type": "code",
      "source": [
        "import PyPDF2"
      ],
      "metadata": {
        "id": "Plvh46DX0DYu"
      },
      "execution_count": 33,
      "outputs": []
    },
    {
      "cell_type": "code",
      "source": [
        "def merge_pdfs(pdf_files, output_file):\n",
        "    merger = PyPDF2.PdfMerger()\n",
        "\n",
        "    for pdf_file in pdf_files:\n",
        "        merger.append(pdf_file)\n",
        "\n",
        "    merger.write(output_file)\n",
        "    merger.close()\n"
      ],
      "metadata": {
        "id": "uCVvTWSAztBv"
      },
      "execution_count": 32,
      "outputs": []
    },
    {
      "cell_type": "code",
      "source": [
        "import os\n",
        "import pyheif\n",
        "import img2pdf\n",
        "from PIL import Image\n",
        "from io import BytesIO\n",
        "\n",
        "# Function to convert HEIC file to PDF\n",
        "def convert_to_pdf(input_file, output_file):\n",
        "    heif_file = pyheif.read(input_file)\n",
        "    img = Image.frombytes(\n",
        "        heif_file.mode, \n",
        "        heif_file.size, \n",
        "        heif_file.data,\n",
        "        \"raw\",\n",
        "        heif_file.mode,\n",
        "        heif_file.stride,\n",
        "    )\n",
        "\n",
        "    # Convert image to JPEG in memory\n",
        "    img_buffer = BytesIO()\n",
        "    img.save(img_buffer, format='JPEG')\n",
        "    img_bytes = img_buffer.getvalue()\n",
        "\n",
        "    # Convert JPEG bytes to PDF\n",
        "    pdf_bytes = img2pdf.convert(img_bytes)\n",
        "    with open(output_file, 'wb') as f:\n",
        "        f.write(pdf_bytes)\n",
        "\n",
        "# Folder containing the HEIC files\n",
        "input_folder = \"/content/drive/MyDrive/HEIC_to_PDF/\"\n",
        "\n",
        "# Folder to save the PDF files\n",
        "output_folder = \"/content/drive/MyDrive/HEIC_to_PDF/\"\n",
        "\n",
        "# Loop through the HEIC files in the input folder\n",
        "# Find all HEIC files in the input folder\n",
        "heic_files = [os.path.join(input_folder, f) for f in os.listdir(input_folder) if f.lower().endswith(\".heic\")]\n",
        "pdf_files = []\n",
        "# Convert HEIC files to PDF\n",
        "for heic_path in heic_files:\n",
        "    output_pdf_path = os.path.join(output_folder, os.path.splitext(os.path.basename(heic_path))[0] + \".pdf\")\n",
        "    convert_to_pdf(heic_path, output_pdf_path)\n",
        "    pdf_files.append(output_pdf_path)\n"
      ],
      "metadata": {
        "id": "bIoX-TAdx2-0"
      },
      "execution_count": 34,
      "outputs": []
    },
    {
      "cell_type": "code",
      "source": [
        "# Merge the PDF files into a single PDF\n",
        "combined_pdf_path = os.path.join(output_folder, \"combined.pdf\")\n",
        "merge_pdfs(pdf_files, combined_pdf_path)"
      ],
      "metadata": {
        "id": "FYtRXldUx3aL"
      },
      "execution_count": 35,
      "outputs": []
    },
    {
      "cell_type": "code",
      "source": [],
      "metadata": {
        "id": "A7muNQuIz86q"
      },
      "execution_count": null,
      "outputs": []
    }
  ]
}
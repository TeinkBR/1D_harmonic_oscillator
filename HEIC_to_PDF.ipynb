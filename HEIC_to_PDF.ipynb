{
  "nbformat": 4,
  "nbformat_minor": 0,
  "metadata": {
    "colab": {
      "provenance": [],
      "mount_file_id": "1J28u13CmUfq1GCdz99T7sFFQEKX5I9uf",
      "authorship_tag": "ABX9TyOTEUtJkziOCeo5R8INlUWX",
      "include_colab_link": true
    },
    "kernelspec": {
      "name": "python3",
      "display_name": "Python 3"
    },
    "language_info": {
      "name": "python"
    }
  },
  "cells": [
    {
      "cell_type": "markdown",
      "metadata": {
        "id": "view-in-github",
        "colab_type": "text"
      },
      "source": [
        "<a href=\"https://colab.research.google.com/github/TeinkBR/1D_harmonic_oscillator/blob/main/HEIC_to_PDF.ipynb\" target=\"_parent\"><img src=\"https://colab.research.google.com/assets/colab-badge.svg\" alt=\"Open In Colab\"/></a>"
      ]
    },
    {
      "cell_type": "code",
      "source": [
        "!pip install pyheif\n",
        "!pip install img2pdf\n",
        "!pip install pyheif pillow reportlab\n",
        "!pip install PyPDF2"
      ],
      "metadata": {
        "colab": {
          "base_uri": "https://localhost:8080/"
        },
        "id": "Kn50CV9OoLsJ",
        "outputId": "40ba5315-802f-4ba1-c31f-cc6fb11b0cb5"
      },
      "execution_count": null,
      "outputs": [
        {
          "output_type": "stream",
          "name": "stdout",
          "text": [
            "Looking in indexes: https://pypi.org/simple, https://us-python.pkg.dev/colab-wheels/public/simple/\n",
            "Requirement already satisfied: pyheif in /usr/local/lib/python3.9/dist-packages (0.7.1)\n",
            "Requirement already satisfied: cffi>=1.0.0 in /usr/local/lib/python3.9/dist-packages (from pyheif) (1.15.1)\n",
            "Requirement already satisfied: pycparser in /usr/local/lib/python3.9/dist-packages (from cffi>=1.0.0->pyheif) (2.21)\n",
            "Looking in indexes: https://pypi.org/simple, https://us-python.pkg.dev/colab-wheels/public/simple/\n",
            "Requirement already satisfied: img2pdf in /usr/local/lib/python3.9/dist-packages (0.4.4)\n",
            "Requirement already satisfied: pikepdf in /usr/local/lib/python3.9/dist-packages (from img2pdf) (7.1.1)\n",
            "Requirement already satisfied: Pillow in /usr/local/lib/python3.9/dist-packages (from img2pdf) (9.4.0)\n",
            "Requirement already satisfied: lxml>=4.8 in /usr/local/lib/python3.9/dist-packages (from pikepdf->img2pdf) (4.9.2)\n",
            "Requirement already satisfied: deprecation in /usr/local/lib/python3.9/dist-packages (from pikepdf->img2pdf) (2.1.0)\n",
            "Requirement already satisfied: packaging in /usr/local/lib/python3.9/dist-packages (from pikepdf->img2pdf) (23.0)\n",
            "Looking in indexes: https://pypi.org/simple, https://us-python.pkg.dev/colab-wheels/public/simple/\n",
            "Requirement already satisfied: pyheif in /usr/local/lib/python3.9/dist-packages (0.7.1)\n",
            "Requirement already satisfied: pillow in /usr/local/lib/python3.9/dist-packages (9.4.0)\n",
            "Requirement already satisfied: reportlab in /usr/local/lib/python3.9/dist-packages (3.6.12)\n",
            "Requirement already satisfied: cffi>=1.0.0 in /usr/local/lib/python3.9/dist-packages (from pyheif) (1.15.1)\n",
            "Requirement already satisfied: pycparser in /usr/local/lib/python3.9/dist-packages (from cffi>=1.0.0->pyheif) (2.21)\n",
            "Looking in indexes: https://pypi.org/simple, https://us-python.pkg.dev/colab-wheels/public/simple/\n",
            "Requirement already satisfied: PyPDF2 in /usr/local/lib/python3.9/dist-packages (3.0.1)\n",
            "Requirement already satisfied: typing_extensions>=3.10.0.0 in /usr/local/lib/python3.9/dist-packages (from PyPDF2) (4.5.0)\n"
          ]
        }
      ]
    },
    {
      "cell_type": "code",
      "source": [
        "from google.colab import drive\n",
        "drive.mount('/content/drive')"
      ],
      "metadata": {
        "colab": {
          "base_uri": "https://localhost:8080/"
        },
        "id": "l7GkKRdVoO6A",
        "outputId": "e206efca-08f9-44d9-9f13-6bb434090451"
      },
      "execution_count": null,
      "outputs": [
        {
          "output_type": "stream",
          "name": "stdout",
          "text": [
            "Drive already mounted at /content/drive; to attempt to forcibly remount, call drive.mount(\"/content/drive\", force_remount=True).\n"
          ]
        }
      ]
    },
    {
      "cell_type": "code",
      "source": [
        "import os\n",
        "import sys\n",
        "import pyheif\n",
        "import img2pdf\n",
        "from PIL import Image\n",
        "from reportlab.lib.pagesizes import letter\n",
        "from reportlab.pdfgen import canvas\n",
        "from io import BytesIO\n",
        "import PyPDF2\n",
        "\n",
        "input_folder = \"/content/drive/MyDrive/HEIC_to_PDF/\"\n",
        "\n",
        "output_folder = \"/content/drive/MyDrive/HEIC_to_PDF/\"\n"
      ],
      "metadata": {
        "id": "Mi6UvIk_ojJU"
      },
      "execution_count": null,
      "outputs": []
    },
    {
      "cell_type": "code",
      "source": [
        "def merge_pdfs(pdf_files, output_file):\n",
        "    merger = PyPDF2.PdfMerger()\n",
        "\n",
        "    for pdf_file in pdf_files:\n",
        "        merger.append(pdf_file)\n",
        "\n",
        "    merger.write(output_file)\n",
        "    merger.close()\n"
      ],
      "metadata": {
        "id": "uCVvTWSAztBv"
      },
      "execution_count": null,
      "outputs": []
    },
    {
      "cell_type": "code",
      "source": [
        "# Function to convert HEIC file to PDF\n",
        "def convert_to_pdf(input_file, output_file):\n",
        "    heif_file = pyheif.read(input_file)\n",
        "    img = Image.frombytes(\n",
        "        heif_file.mode, \n",
        "        heif_file.size, \n",
        "        heif_file.data,\n",
        "        \"raw\",\n",
        "        heif_file.mode,\n",
        "        heif_file.stride,\n",
        "    )\n",
        "\n",
        "    # Convert image to JPEG in memory\n",
        "    img_buffer = BytesIO()\n",
        "    img.save(img_buffer, format='JPEG')\n",
        "    img_bytes = img_buffer.getvalue()\n",
        "\n",
        "    # Convert JPEG bytes to PDF\n",
        "    pdf_bytes = img2pdf.convert(img_bytes)\n",
        "    with open(output_file, 'wb') as f:\n",
        "        f.write(pdf_bytes)\n"
      ],
      "metadata": {
        "id": "B6ktdtnN1eT8"
      },
      "execution_count": null,
      "outputs": []
    },
    {
      "cell_type": "code",
      "source": [
        "# Find all HEIC files in the input folder\n",
        "heic_files = [os.path.join(input_folder, f) for f in os.listdir(input_folder) if f.lower().endswith(\".heic\")]\n",
        "# define empty space for merged pdf file\n",
        "pdf_files = []\n",
        "\n",
        "# Loop through the HEIC files in the input folder and convert HEIC files to PDF\n",
        "for heic_path in heic_files:\n",
        "    output_pdf_path = os.path.join(output_folder, os.path.splitext(os.path.basename(heic_path))[0] + \".pdf\")\n",
        "    convert_to_pdf(heic_path, output_pdf_path)\n",
        "    pdf_files.append(output_pdf_path)\n"
      ],
      "metadata": {
        "id": "bIoX-TAdx2-0"
      },
      "execution_count": null,
      "outputs": []
    },
    {
      "cell_type": "code",
      "source": [
        "# Merge the PDF files into a single PDF\n",
        "combined_pdf_path = os.path.join(output_folder, \"combined.pdf\")\n",
        "merge_pdfs(pdf_files, combined_pdf_path)"
      ],
      "metadata": {
        "id": "FYtRXldUx3aL"
      },
      "execution_count": null,
      "outputs": []
    },
    {
      "cell_type": "code",
      "source": [],
      "metadata": {
        "id": "A7muNQuIz86q"
      },
      "execution_count": null,
      "outputs": []
    }
  ]
}
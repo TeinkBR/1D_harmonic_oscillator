{
  "cells": [
    {
      "cell_type": "markdown",
      "metadata": {
        "id": "view-in-github",
        "colab_type": "text"
      },
      "source": [
        "<a href=\"https://colab.research.google.com/github/TeinkBR/1D_harmonic_oscillator/blob/main/Test_of_Emulation_for_Infrared_extrapolation.ipynb\" target=\"_parent\"><img src=\"https://colab.research.google.com/assets/colab-badge.svg\" alt=\"Open In Colab\"/></a>"
      ]
    },
    {
      "cell_type": "markdown",
      "metadata": {
        "id": "JyG45Qk3qQLS"
      },
      "source": [
        "# Goal\n",
        "In this notebook, we will explore how to use emulation technology to perform infrared extrapolation. "
      ]
    },
    {
      "cell_type": "markdown",
      "metadata": {
        "id": "GOwlZRXEQSHZ"
      },
      "source": [
        "# Training calculations\n",
        "Some codes are from Jingyi's notebook"
      ]
    },
    {
      "cell_type": "code",
      "execution_count": 106,
      "metadata": {
        "cellView": "both",
        "id": "d-S-3nYLQSHb"
      },
      "outputs": [],
      "source": [
        "import numpy as np\n",
        "import matplotlib.pyplot as plt\n",
        "from IPython.display import display, Math, Latex\n",
        "import pickle\n",
        "#load interactive widgets\n",
        "import ipywidgets as widgets\n",
        "from scipy import interpolate\n",
        "from scipy.special import hermite, gamma, loggamma\n",
        "from scipy.misc import derivative              # import from scipy derivative \n",
        "# Import hermite polynomials and factorial to use in normalization factor\n",
        "from scipy.special import hermite\n",
        "#If your screen has retina display this will increase resolution of plots\n",
        "%config InlineBackend.figure_format = 'retina'\n",
        "import scipy.integrate as integrate\n",
        "import scipy.special as special\n",
        "from numpy import linalg as LA\n",
        "from scipy.linalg import eigh\n",
        "%matplotlib inline"
      ]
    },
    {
      "cell_type": "code",
      "execution_count": 107,
      "metadata": {
        "id": "q8q6ky4S9NWU"
      },
      "outputs": [],
      "source": [
        "class truncation_scheme:\n",
        "  def __init__(self,mesh,e_max,length, omega, hbar,mass):\n",
        "  ### input variable \n",
        "    \n",
        "    self.e_max=e_max      \n",
        "\n",
        "    self.length=length     \n",
        "    \n",
        "    self.omega = omega  \n",
        "    \n",
        "    self.starting_position=-length/2 \n",
        "  \n",
        "    self.ending_position=length/2   \n",
        "    \n",
        "    self.mesh=mesh  \n",
        "    \n",
        "    self.hbar=hbar \n",
        "  \n",
        "    self.mass=mass \n",
        "  \n",
        "    self.scaling_factor_b=hbar/np.sqrt(mass*omega)\n",
        "  \n",
        "    self.meshpoint,self.weight = np.polynomial.legendre.leggauss(mesh) \n",
        "\n",
        "    self.meshpoint=self.length/2*self.meshpoint\n",
        "\n",
        "    self.weight = self.length/2*self.weight\n",
        "\n",
        "    self.energy_level=np.arange(0,self.e_max) \n"
      ]
    },
    {
      "cell_type": "code",
      "execution_count": 108,
      "metadata": {
        "id": "7_gnty6j9r0T"
      },
      "outputs": [],
      "source": [
        "class basis_wave_function_class():\n",
        "  def __init__(self,truncation_scheme):\n",
        "    self.meshpoint=truncation_scheme.meshpoint\n",
        "    self.weight = truncation_scheme.weight\n",
        "    self.energy_level = truncation_scheme.energy_level\n",
        "    self.e_max = truncation_scheme.e_max\n",
        "    ### harmonic wave function used for our basis\n",
        "    self.basis_wave_function_ilevel_ix = np.zeros((self.e_max,len(self.meshpoint)))     \n",
        "    for i in self.energy_level:\n",
        "      self.basis_wave_function_ilevel_ix[i]=1./np.sqrt(np.sqrt(np.pi))\\\n",
        "             *np.exp(-0.5*(i*np.log(2) + loggamma(i + 1.) + self.meshpoint**2) ) * hermite(i)(self.meshpoint)\n"
      ]
    },
    {
      "cell_type": "code",
      "execution_count": 109,
      "metadata": {
        "id": "HD2U0zrL_Ok_"
      },
      "outputs": [],
      "source": [
        "mesh=1000\n",
        "e_max=60\n",
        "length=50\n",
        "omega=1e-10\n",
        "hbar=197.3\n",
        "mass=940\n",
        "alpha=0.5\n",
        "lambda_coeff=2"
      ]
    },
    {
      "cell_type": "code",
      "execution_count": 110,
      "metadata": {
        "id": "DoNOzahU_ToV"
      },
      "outputs": [],
      "source": [
        "truncation_scheme_1 = truncation_scheme(mesh,e_max,length,omega,hbar,mass)"
      ]
    },
    {
      "cell_type": "code",
      "execution_count": 111,
      "metadata": {
        "id": "hz5FXTTA_f_8"
      },
      "outputs": [],
      "source": [
        "basis_wave_function_1 = basis_wave_function_class(truncation_scheme_1)"
      ]
    },
    {
      "cell_type": "code",
      "execution_count": 112,
      "metadata": {
        "colab": {
          "base_uri": "https://localhost:8080/"
        },
        "id": "oNryyIuRAKtA",
        "outputId": "e732f528-f9f5-4476-a781-b9e7b5a4357b"
      },
      "outputs": [
        {
          "output_type": "stream",
          "name": "stdout",
          "text": [
            "the normlization of state 0: 1.0000000000001035\n",
            "the normlization of state 1: 1.0000000000001044\n",
            "the normlization of state 2: 1.0000000000001044\n",
            "the normlization of state 3: 1.0000000000001044\n",
            "the normlization of state 4: 1.0000000000001035\n",
            "the normlization of state 5: 1.0000000000001048\n",
            "the normlization of state 6: 1.000000000000105\n",
            "the normlization of state 7: 1.000000000000105\n",
            "the normlization of state 8: 1.0000000000001044\n",
            "the normlization of state 9: 1.0000000000001041\n",
            "the normlization of state 10: 1.0000000000001046\n",
            "the normlization of state 11: 1.000000000000104\n",
            "the normlization of state 12: 1.0000000000001088\n",
            "the normlization of state 13: 1.0000000000001084\n",
            "the normlization of state 14: 1.0000000000001017\n",
            "the normlization of state 15: 1.0000000000000986\n",
            "the normlization of state 16: 1.000000000000104\n",
            "the normlization of state 17: 1.0000000000001\n",
            "the normlization of state 18: 1.000000000000108\n",
            "the normlization of state 19: 1.0000000000001044\n",
            "the normlization of state 20: 1.0000000000001041\n",
            "the normlization of state 21: 1.0000000000001017\n",
            "the normlization of state 22: 1.0000000000001026\n",
            "the normlization of state 23: 1.0000000000000946\n",
            "the normlization of state 24: 1.0000000000001057\n",
            "the normlization of state 25: 1.00000000000011\n",
            "the normlization of state 26: 1.0000000000001132\n",
            "the normlization of state 27: 1.00000000000012\n",
            "the normlization of state 28: 1.0000000000001046\n",
            "the normlization of state 29: 1.0000000000001168\n",
            "the normlization of state 30: 1.0000000000001137\n",
            "the normlization of state 31: 1.000000000000109\n",
            "the normlization of state 32: 1.0000000000001155\n",
            "the normlization of state 33: 1.000000000000106\n",
            "the normlization of state 34: 1.0000000000001261\n",
            "the normlization of state 35: 1.0000000000001275\n",
            "the normlization of state 36: 1.0000000000001146\n",
            "the normlization of state 37: 1.000000000000139\n",
            "the normlization of state 38: 1.0000000000001106\n",
            "the normlization of state 39: 1.0000000000001181\n",
            "the normlization of state 40: 1.0000000000001217\n",
            "the normlization of state 41: 1.0000000000001288\n",
            "the normlization of state 42: 1.0000000000001161\n",
            "the normlization of state 43: 1.0000000000000968\n",
            "the normlization of state 44: 1.0000000000001261\n",
            "the normlization of state 45: 1.0000000000000835\n",
            "the normlization of state 46: 1.0000000000001292\n",
            "the normlization of state 47: 1.0000000000000933\n",
            "the normlization of state 48: 1.000000000000115\n",
            "the normlization of state 49: 1.0000000000001266\n",
            "the normlization of state 50: 1.0000000000001166\n",
            "the normlization of state 51: 1.0000000000001092\n",
            "the normlization of state 52: 1.000000000000084\n",
            "the normlization of state 53: 1.0000000000001004\n",
            "the normlization of state 54: 1.000000000000108\n",
            "the normlization of state 55: 1.0000000000000917\n",
            "the normlization of state 56: 1.0000000000001035\n",
            "the normlization of state 57: 1.000000000000124\n",
            "the normlization of state 58: 1.0000000000001108\n",
            "the normlization of state 59: 1.000000000000128\n"
          ]
        }
      ],
      "source": [
        "### the following is the normalization of the HO's states\n",
        "for i in truncation_scheme_1.energy_level:\n",
        "  print(f'the normlization of state {i}: {basis_wave_function_1.basis_wave_function_ilevel_ix[i]**2 @ truncation_scheme_1.weight}')"
      ]
    },
    {
      "cell_type": "code",
      "execution_count": 113,
      "metadata": {
        "id": "n04UxGWLBdO5"
      },
      "outputs": [],
      "source": [
        "class Hamiltonian_class:\n",
        "  def __init__(self,truncation_scheme, omega_T, V_s_func_of_x_unscaled,test_r_sqr_included=False):  \n",
        "    ### setting Hamiltonian Numerical space\n",
        "    ### Kinetic term + Potential Term + Harmonic oscillator trap\n",
        "    self.truncation_scheme = truncation_scheme \n",
        "    self.omega_T = omega_T\n",
        "    self.hbar = truncation_scheme.hbar\n",
        "    self.mass = truncation_scheme.mass\n",
        "    self.omega = truncation_scheme.omega \n",
        "    self.meshpoint=truncation_scheme.meshpoint\n",
        "    self.weight = truncation_scheme.weight\n",
        "    self.energy_level = truncation_scheme.energy_level\n",
        "    self.e_max = truncation_scheme.e_max\n",
        "    self.basis_wave_function_ilevel_ix  = basis_wave_function_class(truncation_scheme).basis_wave_function_ilevel_ix\n",
        "    self.scaling_factor_b= truncation_scheme.scaling_factor_b \n",
        "\n",
        "    self.H_p_sqr=np.zeros((self.e_max,self.e_max))\n",
        "    self.H_r_sqr=np.zeros((self.e_max,self.e_max))\n",
        "\n",
        "    ## this is the potential on the x mesh after rescsling\n",
        "    self.V_s_ix = np.array([ V_s_func_of_x_unscaled(x*self.scaling_factor_b)/self.omega \n",
        "                            for x in self.meshpoint]) \n",
        "    \n",
        "    self.V_s_ilevel_ilevel = [[(self.weight*self.basis_wave_function_ilevel_ix[i] \n",
        "                                * self.V_s_ix) \n",
        "                                       @(self.basis_wave_function_ilevel_ix[j])  \n",
        "                              for j in self.energy_level]  \n",
        "                              for i in self.energy_level]\n",
        "    \n",
        "  ### integration using numerical gaussian quadrature \n",
        "\n",
        "   ### Now we set Hamiltonian P square and R square values from the book of Quantum Mechanics By Griffith     \n",
        "   ### i & j here are the energy level of the psi and psi conjugate <psi|H|psi>, formula from the textbook \n",
        "   ### mentioned above, see overleaf file\n",
        "\n",
        "    for i in range(self.e_max):\n",
        "     for j in range(self.e_max):   \n",
        "        if (i == j) :\n",
        "          self.H_p_sqr[i][j]= 0.25*(2*j+1)\n",
        "          self.H_r_sqr[i][j] = 0.25*(2*j+1)\n",
        "          \n",
        "        elif (i == j-2):\n",
        "           \n",
        "          self.H_p_sqr[i][j]= -0.25*np.sqrt(j*(j-1))\n",
        "          self.H_r_sqr[i][j] = 0.25*np.sqrt(j*(j-1))\n",
        "\n",
        "            \n",
        "        elif (i == j+2):\n",
        "           \n",
        "          self.H_p_sqr[i][j]= -0.25*np.sqrt((j+2)*(j+1))\n",
        "          self.H_r_sqr[i][j] = 0.25*np.sqrt((j+2)*(j+1))\n",
        "            \n",
        "        else:\n",
        "          \n",
        "          self.H_p_sqr[i][j]=  0\n",
        "          self.H_r_sqr[i][j]=  0\n",
        "\n",
        "     ### Total H include Potential V + Kinetic T + Harmonic Oscillator Trap R_squared\n",
        "    if (test_r_sqr_included == False):\n",
        "      self.Total_H= self.V_s_ilevel_ilevel +self.H_p_sqr\n",
        "    else:  \n",
        "      self.Total_H= self.V_s_ilevel_ilevel +self.H_p_sqr+self.H_r_sqr*(self.omega_T/self.omega)**2\n",
        "   \n",
        "     ### getting eigenvalue(energy) and eigenvector(wavefunction) from the hamiltonian\n",
        "    self.eigenval_iHlevel,self.psi_iHOlevel_iHlevel = LA.eigh(self.Total_H)\n",
        "     ### same thing, but computed from numerical Total H, might not be useful\n",
        "    \n",
        "     ## <Phi|psi>, for plotting\n",
        "    self.psi_iHlevel_ix = self.psi_iHOlevel_iHlevel.T @ self.basis_wave_function_ilevel_ix\n",
        "\n",
        "    "
      ]
    },
    {
      "cell_type": "markdown",
      "metadata": {
        "id": "auW5YQcxML7q"
      },
      "source": [
        "Define the strong interaction potential function"
      ]
    },
    {
      "cell_type": "code",
      "execution_count": 114,
      "metadata": {
        "id": "UA4uR9crMKok"
      },
      "outputs": [],
      "source": [
        "class PT_pot_class:\n",
        "  def __init__(self, hbar, mass, alpha, lambda_coeff):\n",
        "    self.hbar = hbar \n",
        "    self.mass = mass \n",
        "    self.alpha = alpha \n",
        "    self.lambda_coeff= lambda_coeff \n",
        "    self.eigenE_ifullH_analy = - (self.hbar*self.alpha*(self.lambda_coeff-1-np.arange(0,e_max)))**2/(2*self.mass)\n",
        "\n",
        "  def V_s_func_of_x_unscaled(self, x):\n",
        "    return  -(self.alpha*self.hbar)**2/(2*self.mass) *self.lambda_coeff*(\n",
        "      self.lambda_coeff-1)/(np.cosh(self.alpha* x )**2)"
      ]
    },
    {
      "cell_type": "code",
      "execution_count": 115,
      "metadata": {
        "colab": {
          "base_uri": "https://localhost:8080/"
        },
        "id": "-noxcSpBPqdB",
        "outputId": "1d5721ed-5012-4db5-defd-0d31ef3b8ccb"
      },
      "outputs": [
        {
          "output_type": "execute_result",
          "data": {
            "text/plain": [
              "(0.5, 2)"
            ]
          },
          "metadata": {},
          "execution_count": 115
        }
      ],
      "source": [
        "alpha, lambda_coeff"
      ]
    },
    {
      "cell_type": "code",
      "execution_count": 116,
      "metadata": {
        "id": "C83yh7lpPjDE"
      },
      "outputs": [],
      "source": [
        "x_unscaled_list = np.linspace(-5,5,100)\n",
        "PT_pot_1 = PT_pot_class(hbar, mass, alpha, lambda_coeff)"
      ]
    },
    {
      "cell_type": "code",
      "execution_count": 117,
      "metadata": {
        "colab": {
          "base_uri": "https://localhost:8080/",
          "height": 265
        },
        "id": "bYZMuwC2P9S5",
        "outputId": "a01252e5-5758-46ef-cef2-2b779ae61b08"
      },
      "outputs": [
        {
          "output_type": "display_data",
          "data": {
            "text/plain": [
              "<Figure size 432x288 with 1 Axes>"
            ],
            "image/png": "[encoded data removed]"
          },
          "metadata": {
            "image/png": {
              "width": 377,
              "height": 248
            },
            "needs_background": "light"
          }
        }
      ],
      "source": [
        "plt.plot(x_unscaled_list, PT_pot_1.V_s_func_of_x_unscaled(x_unscaled_list) , label = 'PT potential vs unscaled x')\n",
        "plt.legend(loc = 'best')\n",
        "plt.show()"
      ]
    },
    {
      "cell_type": "markdown",
      "metadata": {
        "id": "M30A_UulQucx"
      },
      "source": [
        "# Test the training calculations codes for PT potential "
      ]
    },
    {
      "cell_type": "code",
      "execution_count": 118,
      "metadata": {
        "id": "YYCCxKsyQ9PV",
        "colab": {
          "base_uri": "https://localhost:8080/"
        },
        "outputId": "7bd21f4f-09b9-4b99-a4e9-66c0845277b0"
      },
      "outputs": [
        {
          "output_type": "stream",
          "name": "stderr",
          "text": [
            "/usr/local/lib/python3.7/dist-packages/ipykernel_launcher.py:11: RuntimeWarning: overflow encountered in cosh\n",
            "  # This is added back by InteractiveShellApp.init_path()\n"
          ]
        }
      ],
      "source": [
        "omega_T = 10 \n",
        "H_class_for_PT_pot_1  =  Hamiltonian_class(truncation_scheme_1 , omega_T , PT_pot_1.V_s_func_of_x_unscaled)"
      ]
    },
    {
      "cell_type": "code",
      "execution_count": 119,
      "metadata": {
        "colab": {
          "base_uri": "https://localhost:8080/"
        },
        "id": "ih8mX-0xR1RP",
        "outputId": "52d0007d-ba88-4e97-ea5b-575ba4441532"
      },
      "outputs": [
        {
          "output_type": "execute_result",
          "data": {
            "text/plain": [
              "array([1.01960969e-12, 4.01277440e-12, 9.18061525e-12, 1.60615897e-11,\n",
              "       2.55247110e-11, 3.61780735e-11, 5.00963964e-11, 6.44154488e-11,\n",
              "       8.29632589e-11, 1.00849318e-10, 1.24217014e-10, 1.45578802e-10,\n",
              "       1.73974951e-10, 1.98728067e-10, 2.32381846e-10, 2.60448318e-10,\n",
              "       2.99612410e-10, 3.30920315e-10, 3.75874390e-10, 4.10357539e-10,\n",
              "       4.61412456e-10, 4.99010136e-10, 5.56513075e-10, 5.97169855e-10,\n",
              "       6.61510614e-10, 7.05176209e-10, 7.76795051e-10, 8.23424247e-10,\n",
              "       9.02821761e-10, 9.52374407e-10, 1.04012408e-09, 1.09256516e-09,\n",
              "       1.18932964e-09, 1.24462945e-09, 1.35118192e-09, 1.40931630e-09,\n",
              "       1.52656916e-09, 1.58751994e-09, 1.71656408e-09, 1.78031969e-09,\n",
              "       1.92247964e-09, 1.98903594e-09, 2.14594983e-09, 2.21531140e-09,\n",
              "       2.38905092e-09, 2.46123279e-09, 2.65449133e-09, 2.72952169e-09,\n",
              "       2.94592594e-09, 3.02385030e-09, 3.26851378e-09, 3.34940173e-09,\n",
              "       3.63000505e-09, 3.71396222e-09, 4.04316109e-09, 4.13035288e-09,\n",
              "       4.53238034e-09, 4.62308827e-09, 5.16037503e-09, 5.25518714e-09])"
            ]
          },
          "metadata": {},
          "execution_count": 119
        }
      ],
      "source": [
        "H_class_for_PT_pot_1.eigenval_iHlevel*omega "
      ]
    },
    {
      "cell_type": "code",
      "execution_count": 120,
      "metadata": {
        "colab": {
          "base_uri": "https://localhost:8080/"
        },
        "id": "BKOoVDvWTWSg",
        "outputId": "a315ac88-3d71-4807-d7ab-ba6be1a0abc5"
      },
      "outputs": [
        {
          "output_type": "execute_result",
          "data": {
            "text/plain": [
              "array([-5.17650133e+00, -0.00000000e+00, -5.17650133e+00, -2.07060053e+01,\n",
              "       -4.65885120e+01, -8.28240213e+01, -1.29412533e+02, -1.86354048e+02,\n",
              "       -2.53648565e+02, -3.31296085e+02, -4.19296608e+02, -5.17650133e+02,\n",
              "       -6.26356661e+02, -7.45416191e+02, -8.74828725e+02, -1.01459426e+03,\n",
              "       -1.16471280e+03, -1.32518434e+03, -1.49600888e+03, -1.67718643e+03,\n",
              "       -1.86871698e+03, -2.07060053e+03, -2.28283709e+03, -2.50542664e+03,\n",
              "       -2.73836920e+03, -2.98166477e+03, -3.23531333e+03, -3.49931490e+03,\n",
              "       -3.77366947e+03, -4.05837704e+03, -4.35343762e+03, -4.65885120e+03,\n",
              "       -4.97461778e+03, -5.30073736e+03, -5.63720995e+03, -5.98403554e+03,\n",
              "       -6.34121413e+03, -6.70874572e+03, -7.08663032e+03, -7.47486792e+03,\n",
              "       -7.87345852e+03, -8.28240213e+03, -8.70169874e+03, -9.13134835e+03,\n",
              "       -9.57135096e+03, -1.00217066e+04, -1.04824152e+04, -1.09534768e+04,\n",
              "       -1.14348914e+04, -1.19266591e+04, -1.24287797e+04, -1.29412533e+04,\n",
              "       -1.34640800e+04, -1.39972596e+04, -1.45407922e+04, -1.50946779e+04,\n",
              "       -1.56589165e+04, -1.62335082e+04, -1.68184528e+04, -1.74137505e+04])"
            ]
          },
          "metadata": {},
          "execution_count": 120
        }
      ],
      "source": [
        "PT_pot_1.eigenE_ifullH_analy"
      ]
    },
    {
      "cell_type": "code",
      "execution_count": null,
      "metadata": {
        "id": "FPhrZbvqTgqy"
      },
      "outputs": [],
      "source": [
        "e_max_list = np.arange(20,100,20) \n",
        "omega_list = np.arange(1,110,2) \n",
        "gs_E_iemax_iomega = np.zeros((len(e_max_list), len(omega_list)))\n",
        "\n",
        "for iemax, e_max in enumerate(e_max_list):\n",
        "  for iomega, omega in enumerate(omega_list): \n",
        "    truncation_scheme_tp = truncation_scheme(mesh,e_max,length,omega,hbar,mass)\n",
        "    omega_T = 0 \n",
        "    H_class_for_PT_pot_tp  =  Hamiltonian_class(truncation_scheme_tp , omega_T, PT_pot_1.V_s_func_of_x_unscaled)\n",
        "    gs_E_iemax_iomega[iemax, iomega] = H_class_for_PT_pot_tp.eigenval_iHlevel[0]*omega \n"
      ]
    },
    {
      "cell_type": "code",
      "execution_count": null,
      "metadata": {
        "id": "WkM5V_INVhw7"
      },
      "outputs": [],
      "source": [
        "for iemax, e_max in enumerate(e_max_list):\n",
        "  plt.plot(omega_list, np.absolute(gs_E_iemax_iomega[iemax]-PT_pot_1.eigenE_ifullH_analy[0]), label = f'e_max = {e_max}' )\n",
        "\n",
        "plt.yscale('log')\n",
        "plt.xlabel('omega')\n",
        "plt.ylabel('log relative error: emulation-analytical')\n",
        "plt.title('The absolute error of full calculation')\n",
        "plt.legend()\n",
        "\n",
        "plt.show()"
      ]
    },
    {
      "cell_type": "markdown",
      "metadata": {
        "id": "U97O91o-Xc9w"
      },
      "source": [
        "# Construct a list of training Hamiltonian classes based on PT potential\n",
        "\n"
      ]
    },
    {
      "cell_type": "code",
      "execution_count": null,
      "metadata": {
        "id": "m5lU0ItxXwJK"
      },
      "outputs": [],
      "source": [
        "omega_training_list = np.linspace(20,21,3)\n",
        "e_max_training = 20 \n",
        "print(f'length={length}, mesh= {mesh}')"
      ]
    },
    {
      "cell_type": "code",
      "execution_count": null,
      "metadata": {
        "id": "feEzRoNZ5O11"
      },
      "outputs": [],
      "source": [
        "alpha = 0.5 \n",
        "lambda_coeff = 2 \n",
        "PT_pot_1 = PT_pot_class(hbar, mass, alpha, lambda_coeff)"
      ]
    },
    {
      "cell_type": "code",
      "execution_count": null,
      "metadata": {
        "id": "XleEH78dXaGc"
      },
      "outputs": [],
      "source": [
        "H_class_training_list =  []\n",
        "for omega in omega_training_list : \n",
        "  truncation_scheme_tp = truncation_scheme(mesh,e_max_training,length,omega,hbar,mass)\n",
        "  H_class_training_list.append(Hamiltonian_class(truncation_scheme_tp, omega, PT_pot_1.V_s_func_of_x_unscaled) )"
      ]
    },
    {
      "cell_type": "markdown",
      "metadata": {
        "id": "fZQNMBAXWlWF"
      },
      "source": [
        "# Emulation"
      ]
    },
    {
      "cell_type": "code",
      "execution_count": null,
      "metadata": {
        "id": "G18yKjMuWo_v"
      },
      "outputs": [],
      "source": [
        "class emulation:\n",
        "  def __init__(self,training_list):\n",
        "    \n",
        "    self.training_list = training_list     \n",
        "    self.hbar= self.training_list[0].hbar\n",
        "    self.mass=self.training_list[0].mass\n",
        "    self.e_max=self.training_list[0].e_max\n",
        "    self.meshpoint= self.training_list[0].meshpoint\n",
        "    self.weight = self.training_list[0].weight\n",
        "    self.basis_wave_function_ilevel_ix = self.training_list[0].basis_wave_function_ilevel_ix \n",
        "    self.energy_level = self.training_list[0].energy_level\n",
        "    self.N_matrix=[[np.conj(\n",
        "            class_left.psi_iHOlevel_iHlevel[:,0]) @ class_right.psi_iHOlevel_iHlevel[:, 0] \n",
        "            for j, class_right in enumerate(self.training_list)] \n",
        "            for i,class_left in enumerate(self.training_list)]\n",
        "\n",
        "    ## The sum of the p^2 and r^2 pieces in H\n",
        "    self.H_p_sqr_r_sqr_ilevel_ilevel = training_list[0].H_p_sqr+ training_list[0].H_r_sqr\n",
        "\n",
        "  def start_emu(self,emulation_omega, emulation_V_s_func_of_x_unscaled):\n",
        "    ## this is the potential on the x mesh after rescsling\n",
        "    scaling_factor_b = self.hbar/np.sqrt(mass*emulation_omega)\n",
        "    V_s_ix = np.array([ emulation_V_s_func_of_x_unscaled(x*scaling_factor_b)/emulation_omega \n",
        "                            for x in self.meshpoint]) \n",
        "    \n",
        "    V_s_ilevel_ilevel = [[(self.weight*self.basis_wave_function_ilevel_ix[i] \n",
        "                                * V_s_ix) \n",
        "                                       @(self.basis_wave_function_ilevel_ix[j])  \n",
        "                              for j in self.energy_level]  \n",
        "                              for i in self.energy_level]\n",
        "\n",
        "    emulation_H= self.H_p_sqr_r_sqr_ilevel_ilevel + V_s_ilevel_ilevel\n",
        "\n",
        "    self.H_matrix=[[np.conj(\n",
        "            class_left.psi_iHOlevel_iHlevel[:,0]) @ emulation_H @ class_right.psi_iHOlevel_iHlevel[:, 0] \n",
        "            for j, class_right in enumerate(self.training_list)] \n",
        "            for i,class_left in enumerate(self.training_list)]\n",
        "    \n",
        "    eigval_emu_H, eigvec_emu_H = eigh(self.H_matrix,self.N_matrix)\n",
        "      \n",
        "    \n",
        "    \n",
        "    return eigval_emu_H,eigvec_emu_H, V_s_ix"
      ]
    },
    {
      "cell_type": "code",
      "execution_count": null,
      "metadata": {
        "id": "hFlIpkOXn8SX"
      },
      "outputs": [],
      "source": [
        "my_emul = emulation(H_class_training_list)"
      ]
    },
    {
      "cell_type": "code",
      "execution_count": null,
      "metadata": {
        "id": "RDMOIJUqoGJv"
      },
      "outputs": [],
      "source": [
        "emulation_omega_list = np.arange(1,100, 1)\n",
        "emulation_V_s_func_of_x_unscaled = PT_pot_1.V_s_func_of_x_unscaled\n",
        "emulation_gs_E_list = emulation_omega_list * 0. \n",
        "gs_E_from_fullcalculation_list = emulation_gs_E_list + 1.\n",
        "V_s_ix_iemu = [] \n",
        "e_max_for_fullcalclation = e_max_training + 20\n",
        "for i, emulation_omega in enumerate(emulation_omega_list) : \n",
        "  eigval_emu_H,eigvec_emu_H, V_s_ix  = my_emul.start_emu(emulation_omega, emulation_V_s_func_of_x_unscaled)\n",
        "  emulation_gs_E_list[i] = eigval_emu_H[0]*emulation_omega\n",
        "  V_s_ix_iemu.append(V_s_ix)\n",
        "  omega = 20\n",
        "  truncation_scheme_tp = truncation_scheme(mesh,e_max_for_fullcalclation,length,omega,hbar,mass)\n",
        "  gs_E_from_fullcalculation_list[i]= Hamiltonian_class(truncation_scheme_tp,emulation_omega, PT_pot_1.V_s_func_of_x_unscaled).eigenval_iHlevel[0]*omega   \n"
      ]
    },
    {
      "cell_type": "code",
      "execution_count": null,
      "metadata": {
        "id": "Y9LfE45pobDd"
      },
      "outputs": [],
      "source": [
        "plt.plot(emulation_omega_list, np.absolute(emulation_gs_E_list - PT_pot_1.eigenE_ifullH_analy[0]), label = 'emulation - analy w/o r^2')\n",
        "plt.plot(emulation_omega_list, np.absolute(emulation_gs_E_list - gs_E_from_fullcalculation_list), label = 'emulation - full')\n",
        "plt.plot(emulation_omega_list, np.absolute(gs_E_from_fullcalculation_list- PT_pot_1.eigenE_ifullH_analy[0]), label = 'full - analy w/o r^2')\n",
        "plt.legend()\n",
        "plt.yscale('log')\n",
        "plt.show()"
      ]
    },
    {
      "cell_type": "code",
      "execution_count": null,
      "metadata": {
        "id": "IQbf8aSLyhli"
      },
      "outputs": [],
      "source": [
        "plt.plot(emulation_omega_list, np.absolute(emulation_gs_E_list - PT_pot_1.eigenE_ifullH_analy[0]), label = 'emulation - analy w/o r^2')\n",
        "plt.plot(emulation_omega_list, np.absolute(emulation_gs_E_list - gs_E_from_fullcalculation_list), label = 'emulation - full')\n",
        "plt.plot(emulation_omega_list, np.absolute(gs_E_from_fullcalculation_list- PT_pot_1.eigenE_ifullH_analy[0]), label = 'full - analy w/o r^2')\n",
        "plt.legend()\n",
        "plt.yscale('log')\n",
        "plt.show()"
      ]
    },
    {
      "cell_type": "code",
      "execution_count": null,
      "metadata": {
        "id": "O32zxzXpwY9a"
      },
      "outputs": [],
      "source": [
        "plt.plot(emulation_omega_list, np.absolute(emulation_gs_E_list - PT_pot_1.eigenE_ifullH_analy[0]), label = 'emulation - analy w/o r^2')\n",
        "plt.plot(emulation_omega_list, np.absolute(gs_E_from_fullcalculation_list- PT_pot_1.eigenE_ifullH_analy[0]), label = 'full - analy w/o r^2')\n",
        "plt.legend()\n",
        "plt.yscale('log')\n",
        "plt.show()"
      ]
    },
    {
      "cell_type": "code",
      "execution_count": null,
      "metadata": {
        "id": "TXknGxbJrmhO"
      },
      "outputs": [],
      "source": [
        "plt.plot(truncation_scheme_1.meshpoint, V_s_ix_iemu[10], label = 'rescaled potential')\n",
        "plt.xlim(-2,2)\n",
        "plt.legend()\n",
        "plt.show()"
      ]
    },
    {
      "cell_type": "markdown",
      "metadata": {
        "id": "2Oop1Prf1OHL"
      },
      "source": [
        "Here I perform trainings in two-dim parameter space, including omega, and lambda_c"
      ]
    },
    {
      "cell_type": "code",
      "execution_count": null,
      "metadata": {
        "id": "Unx_QZLj1W1S"
      },
      "outputs": [],
      "source": [
        "para_training_list = [[20.5, .5],   [20.5, 3],   [30.5, 0.5],  [30.5, 1.5],   [30.5, 3]    ]\n",
        "e_max_training = 40 "
      ]
    },
    {
      "cell_type": "code",
      "execution_count": null,
      "metadata": {
        "id": "Ts9FvSmm1Vwi"
      },
      "outputs": [],
      "source": [
        "H_class_training_list_2 =  []\n",
        "for para in para_training_list : \n",
        "  omega_tp = para[0]\n",
        "  lambda_coeff_tp = para[1]\n",
        "  truncation_scheme_tp = truncation_scheme(mesh,e_max_training,length,omega_tp,hbar,mass)\n",
        "  PT_pot_tp = PT_pot_class(hbar, mass, alpha, lambda_coeff_tp)\n",
        "  H_class_training_list_2.append(Hamiltonian_class(truncation_scheme_tp, omega_T,PT_pot_tp.V_s_func_of_x_unscaled, test_r_sqr_included=True) )"
      ]
    },
    {
      "cell_type": "code",
      "execution_count": null,
      "metadata": {
        "id": "E_8WCV7p2nWa"
      },
      "outputs": [],
      "source": [
        "my_emul_2 = emulation(H_class_training_list_2)"
      ]
    },
    {
      "cell_type": "code",
      "execution_count": null,
      "metadata": {
        "id": "y68b86Cm2qY4"
      },
      "outputs": [],
      "source": [
        "emulation_omega_list = np.arange(1,100, 1)\n",
        "lambda_coeff = 2 \n",
        "print(f'alpha={alpha}, lambda_coeff = {lambda_coeff}')\n",
        "PT_pot_1 = PT_pot_class(hbar, mass, alpha, lambda_coeff)\n",
        "emulation_V_s_func_of_x_unscaled = PT_pot_1.V_s_func_of_x_unscaled\n",
        "emulation_gs_E_list_2 = emulation_omega_list * 0. \n",
        "e_max_for_fullcalclation = e_max_training\n",
        "for i, emulation_omega in enumerate(emulation_omega_list) : \n",
        "  eigval_emu_H,eigvec_emu_H, V_s_ix  = my_emul_2.start_emu(emulation_omega, emulation_V_s_func_of_x_unscaled)\n",
        "  emulation_gs_E_list_2[i] = eigval_emu_H[0]*emulation_omega"
      ]
    },
    {
      "cell_type": "code",
      "execution_count": null,
      "metadata": {
        "id": "mNPiEEhN3QTr"
      },
      "outputs": [],
      "source": [
        "plt.plot(emulation_omega_list, np.absolute(emulation_gs_E_list - PT_pot_1.eigenE_ifullH_analy[0]), label = 'emulation - analy w/o r^2')\n",
        "plt.plot(emulation_omega_list, np.absolute(emulation_gs_E_list - gs_E_from_fullcalculation_list), label = 'emulation - full')\n",
        "plt.plot(emulation_omega_list, np.absolute(gs_E_from_fullcalculation_list- PT_pot_1.eigenE_ifullH_analy[0]), label = 'full - analy w/o r^2')\n",
        "plt.plot(emulation_omega_list, np.absolute(emulation_gs_E_list_2- gs_E_from_fullcalculation_list), label = 'emulation 2dim - full')\n",
        "plt.legend()\n",
        "plt.yscale('log')\n",
        "plt.show()"
      ]
    },
    {
      "cell_type": "code",
      "execution_count": null,
      "metadata": {
        "id": "pxF1mw_g4IKq"
      },
      "outputs": [],
      "source": []
    }
  ],
  "metadata": {
    "colab": {
      "collapsed_sections": [],
      "provenance": [],
      "include_colab_link": true
    },
    "kernelspec": {
      "display_name": "Python 3",
      "name": "python3"
    }
  },
  "nbformat": 4,
  "nbformat_minor": 0
}
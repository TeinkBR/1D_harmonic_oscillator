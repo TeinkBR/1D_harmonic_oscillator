{
  "nbformat": 4,
  "nbformat_minor": 0,
  "metadata": {
    "colab": {
      "provenance": [],
      "collapsed_sections": [],
      "include_colab_link": true
    },
    "kernelspec": {
      "name": "python3",
      "display_name": "Python 3"
    },
    "language_info": {
      "name": "python"
    }
  },
  "cells": [
    {
      "cell_type": "markdown",
      "metadata": {
        "id": "view-in-github",
        "colab_type": "text"
      },
      "source": [
        "<a href=\"https://colab.research.google.com/github/TeinkBR/1D_harmonic_oscillator/blob/main/Many_Body_Teink_using_pysindy_method_.ipynb\" target=\"_parent\"><img src=\"https://colab.research.google.com/assets/colab-badge.svg\" alt=\"Open In Colab\"/></a>"
      ]
    },
    {
      "cell_type": "code",
      "execution_count": null,
      "metadata": {
        "id": "mRc7cTscUkD_"
      },
      "outputs": [],
      "source": [
        "import matplotlib.pyplot as plt\n",
        "from matplotlib.ticker import FuncFormatter\n",
        "from matplotlib.colors import SymLogNorm, Normalize\n",
        "from mpl_toolkits.axes_grid1 import AxesGrid, make_axes_locatable\n",
        "\n",
        "import numpy as np\n",
        "from numpy import array, dot, diag, reshape\n",
        "from scipy.linalg import eigvalsh\n",
        "from scipy.integrate import odeint\n",
        "\n",
        "from sympy import *\n",
        "from pylab import *\n",
        "import matplotlib.pyplot as plt\n",
        "# First load the numpy/scipy/matplotlib\n",
        "#load interactive widgets\n",
        "import ipywidgets as widgets\n",
        "from IPython.display import display\n",
        "from scipy import interpolate\n",
        "from math import exp                          #gaussian quadrature method                        \n",
        "from scipy.special import hermite\n",
        "from math import factorial\n",
        "from sympy import diff, integrate, exp          \n",
        "from scipy.misc import derivative              # import from scipy derivative \n",
        "from sympy.utilities.iterables import multiset_permutations\n",
        "import pandas as pd\n",
        "from tensorflow.keras import layers\n",
        "\n",
        "# Import hermite polynomials and factorial to use in normalization factor\n",
        "from scipy.special import hermite\n",
        "#If your screen has retina display this will increase resolution of plots\n",
        "%config InlineBackend.figure_format = 'retina'\n",
        "from itertools import combinations\n",
        "from numpy import linalg as LA\n",
        "\n",
        "%matplotlib inline"
      ]
    },
    {
      "cell_type": "code",
      "source": [
        "import tensorflow as tf\n",
        "from tensorflow import keras\n",
        "from tensorflow.python.keras.layers import Input, Dense\n"
      ],
      "metadata": {
        "id": "oozOP4hrUzP_"
      },
      "execution_count": null,
      "outputs": []
    },
    {
      "cell_type": "code",
      "source": [
        "class mb_hamiltonian:\n",
        "    def __init__(self, delta, g, max_states):     #initialize class function with \n",
        "\n",
        "        self.delta=delta\n",
        "        self.g=g\n",
        "        self.max_states=max_states\n",
        "    def mb_states(self,max_states):\n",
        "        self.mb_state_list=np.arange(0,self.max_states,1)\n",
        "\n",
        "        self.Hamiltonian_mb= np.zeros((len(self.mb_state_list),len(self.mb_state_list)))\n",
        "\n",
        "        print(\"many body states\",self.mb_state_list)\n",
        "        for i in self.mb_state_list:\n",
        "            for j in self.mb_state_list:\n",
        "                if (i==j):\n",
        "                    self.Hamiltonian_mb[i][j]=2*i*self.delta-self.g\n",
        "                elif (i==-j):\n",
        "                    self.Hamiltonian_mb[i][j]=0\n",
        "                else:\n",
        "                    self.Hamiltonian_mb[i][j]=-self.g/2\n",
        "            \n",
        "\n",
        "        print(\"Hamiltonian many body\",pd.DataFrame(self.Hamiltonian_mb))\n",
        "        "
      ],
      "metadata": {
        "id": "rGHvzQskU2sc"
      },
      "execution_count": null,
      "outputs": []
    },
    {
      "cell_type": "code",
      "source": [
        "for g_val in np.arange(0,10,0.25):\n",
        "    for delta_val in range(1,10,1):\n",
        "        for max_states in range(1,10,1):\n",
        "            #print(g_val)\n",
        "            d=mb_hamiltonian(g_val,delta_val,max_states)\n",
        "d.mb_states(10)\n",
        "#pickle.d.mb_states(10)"
      ],
      "metadata": {
        "colab": {
          "base_uri": "https://localhost:8080/"
        },
        "id": "rhWBG2_sU8av",
        "outputId": "f6d40b9d-acfd-4c57-d732-c1967105558b"
      },
      "execution_count": null,
      "outputs": [
        {
          "output_type": "stream",
          "name": "stdout",
          "text": [
            "many body states [0 1 2 3 4 5 6 7 8]\n",
            "Hamiltonian many body      0     1     2     3     4     5      6      7      8\n",
            "0 -9.0  -4.5  -4.5  -4.5  -4.5  -4.5   -4.5   -4.5   -4.5\n",
            "1 -4.5  10.5  -4.5  -4.5  -4.5  -4.5   -4.5   -4.5   -4.5\n",
            "2 -4.5  -4.5  30.0  -4.5  -4.5  -4.5   -4.5   -4.5   -4.5\n",
            "3 -4.5  -4.5  -4.5  49.5  -4.5  -4.5   -4.5   -4.5   -4.5\n",
            "4 -4.5  -4.5  -4.5  -4.5  69.0  -4.5   -4.5   -4.5   -4.5\n",
            "5 -4.5  -4.5  -4.5  -4.5  -4.5  88.5   -4.5   -4.5   -4.5\n",
            "6 -4.5  -4.5  -4.5  -4.5  -4.5  -4.5  108.0   -4.5   -4.5\n",
            "7 -4.5  -4.5  -4.5  -4.5  -4.5  -4.5   -4.5  127.5   -4.5\n",
            "8 -4.5  -4.5  -4.5  -4.5  -4.5  -4.5   -4.5   -4.5  147.0\n"
          ]
        }
      ]
    },
    {
      "cell_type": "code",
      "source": [
        "import tensorflow as tf\n",
        "from tensorflow import keras\n",
        "#from tensorflow.keras import layers\n",
        "from tensorflow.python.keras.layers import Input, Dense\n",
        "model = keras.Sequential(\n",
        "    [\n",
        "        layers.Dense(2, activation=\"relu\", name=\"layer1\"),\n",
        "        layers.Dense(3, activation=\"relu\", name=\"layer2\"),\n",
        "        layers.Dense(4, name=\"layer3\"),\n",
        "    ]\n",
        ")\n",
        "# Call model on a test input\n",
        "\n",
        "print('d.mb_states(10)',d.mb_states(10))\n",
        "x = d.Hamiltonian_mb\n",
        "print('x',x)\n",
        "y = model(x)"
      ],
      "metadata": {
        "colab": {
          "base_uri": "https://localhost:8080/"
        },
        "id": "E-gi-VrSU8yI",
        "outputId": "a637034c-2f0e-46a4-f0f9-bbd9b5a4e27d"
      },
      "execution_count": null,
      "outputs": [
        {
          "output_type": "stream",
          "name": "stdout",
          "text": [
            "many body states [0 1 2 3 4 5 6 7 8]\n",
            "Hamiltonian many body      0     1     2     3     4     5      6      7      8\n",
            "0 -9.0  -4.5  -4.5  -4.5  -4.5  -4.5   -4.5   -4.5   -4.5\n",
            "1 -4.5  10.5  -4.5  -4.5  -4.5  -4.5   -4.5   -4.5   -4.5\n",
            "2 -4.5  -4.5  30.0  -4.5  -4.5  -4.5   -4.5   -4.5   -4.5\n",
            "3 -4.5  -4.5  -4.5  49.5  -4.5  -4.5   -4.5   -4.5   -4.5\n",
            "4 -4.5  -4.5  -4.5  -4.5  69.0  -4.5   -4.5   -4.5   -4.5\n",
            "5 -4.5  -4.5  -4.5  -4.5  -4.5  88.5   -4.5   -4.5   -4.5\n",
            "6 -4.5  -4.5  -4.5  -4.5  -4.5  -4.5  108.0   -4.5   -4.5\n",
            "7 -4.5  -4.5  -4.5  -4.5  -4.5  -4.5   -4.5  127.5   -4.5\n",
            "8 -4.5  -4.5  -4.5  -4.5  -4.5  -4.5   -4.5   -4.5  147.0\n",
            "d.mb_states(10) None\n",
            "x [[ -9.   -4.5  -4.5  -4.5  -4.5  -4.5  -4.5  -4.5  -4.5]\n",
            " [ -4.5  10.5  -4.5  -4.5  -4.5  -4.5  -4.5  -4.5  -4.5]\n",
            " [ -4.5  -4.5  30.   -4.5  -4.5  -4.5  -4.5  -4.5  -4.5]\n",
            " [ -4.5  -4.5  -4.5  49.5  -4.5  -4.5  -4.5  -4.5  -4.5]\n",
            " [ -4.5  -4.5  -4.5  -4.5  69.   -4.5  -4.5  -4.5  -4.5]\n",
            " [ -4.5  -4.5  -4.5  -4.5  -4.5  88.5  -4.5  -4.5  -4.5]\n",
            " [ -4.5  -4.5  -4.5  -4.5  -4.5  -4.5 108.   -4.5  -4.5]\n",
            " [ -4.5  -4.5  -4.5  -4.5  -4.5  -4.5  -4.5 127.5  -4.5]\n",
            " [ -4.5  -4.5  -4.5  -4.5  -4.5  -4.5  -4.5  -4.5 147. ]]\n"
          ]
        }
      ]
    },
    {
      "cell_type": "code",
      "source": [
        "# Create 3 layers\n",
        "layer1 = layers.Dense(2, activation=\"relu\", name=\"layer1\")\n",
        "layer2 = layers.Dense(3, activation=\"relu\", name=\"layer2\")\n",
        "layer3 = layers.Dense(4, name=\"layer3\")\n",
        "\n",
        "# Call layers on a test input\n",
        "x = d.Hamiltonian_mb\n",
        "y = layer3(layer2(layer1(x)))\n"
      ],
      "metadata": {
        "id": "fOXw_C5uVAQ5"
      },
      "execution_count": null,
      "outputs": []
    },
    {
      "cell_type": "code",
      "source": [
        "model = keras.Sequential(\n",
        "    [\n",
        "        layers.Dense(2, activation=\"relu\"),\n",
        "        layers.Dense(3, activation=\"relu\"),\n",
        "        layers.Dense(4),\n",
        "    ]\n",
        ")\n"
      ],
      "metadata": {
        "id": "EUL0XPf8V7uW"
      },
      "execution_count": null,
      "outputs": []
    },
    {
      "cell_type": "code",
      "source": [
        "model.pop()\n",
        "print(len(model.layers))  # 2"
      ],
      "metadata": {
        "colab": {
          "base_uri": "https://localhost:8080/"
        },
        "id": "vqmnHYOaWBN-",
        "outputId": "9122e18f-f65b-4ef4-c81f-a6566dbb7489"
      },
      "execution_count": null,
      "outputs": [
        {
          "output_type": "stream",
          "name": "stdout",
          "text": [
            "2\n"
          ]
        }
      ]
    },
    {
      "cell_type": "code",
      "source": [
        "model = keras.Sequential(name=\"my_sequential\")\n",
        "model.add(layers.Dense(2, activation=\"relu\", name=\"layer1\"))\n",
        "model.add(layers.Dense(3, activation=\"relu\", name=\"layer2\"))\n",
        "model.add(layers.Dense(4, name=\"layer3\"))"
      ],
      "metadata": {
        "id": "9htI4P10a7Wm"
      },
      "execution_count": null,
      "outputs": []
    },
    {
      "cell_type": "code",
      "source": [
        "layer = layers.Dense(3)\n",
        "layer.weights  # Empty"
      ],
      "metadata": {
        "colab": {
          "base_uri": "https://localhost:8080/"
        },
        "id": "qwPfGykYa-LP",
        "outputId": "135ca919-739c-41f0-98c2-dd75dc72d8fb"
      },
      "execution_count": null,
      "outputs": [
        {
          "output_type": "execute_result",
          "data": {
            "text/plain": [
              "[]"
            ]
          },
          "metadata": {},
          "execution_count": 11
        }
      ]
    },
    {
      "cell_type": "code",
      "source": [
        "# Call layer on a test input\n",
        "x = d.Hamiltonian_mb\n",
        "y = layer(x)\n",
        "layer.weights  # Now it has weights, of shape (4, 3) and (3,)"
      ],
      "metadata": {
        "colab": {
          "base_uri": "https://localhost:8080/"
        },
        "id": "j4mHlqZIbBy7",
        "outputId": "5b5db001-f7e4-4adc-ffcc-8bafa6847681"
      },
      "execution_count": null,
      "outputs": [
        {
          "output_type": "execute_result",
          "data": {
            "text/plain": [
              "[<tf.Variable 'dense_3/kernel:0' shape=(9, 3) dtype=float32, numpy=\n",
              " array([[ 0.41079515, -0.04731894,  0.4967963 ],\n",
              "        [-0.02059883, -0.4264103 , -0.33863845],\n",
              "        [-0.08117974, -0.65614414,  0.66130346],\n",
              "        [ 0.46164232, -0.66816324, -0.39496332],\n",
              "        [-0.25353757,  0.08423114,  0.65510434],\n",
              "        [-0.08813983,  0.49809545, -0.5044062 ],\n",
              "        [ 0.63866454, -0.06868792,  0.21588981],\n",
              "        [ 0.03826779, -0.4233012 , -0.12902784],\n",
              "        [ 0.1151287 ,  0.06631267,  0.14432496]], dtype=float32)>,\n",
              " <tf.Variable 'dense_3/bias:0' shape=(3,) dtype=float32, numpy=array([0., 0., 0.], dtype=float32)>]"
            ]
          },
          "metadata": {},
          "execution_count": 12
        }
      ]
    },
    {
      "cell_type": "code",
      "source": [
        "model = keras.Sequential(\n",
        "    [\n",
        "        layers.Dense(2, activation=\"relu\"),\n",
        "        layers.Dense(3, activation=\"relu\"),\n",
        "        layers.Dense(4),\n",
        "    ]\n",
        ")  # No weights at this stage!\n",
        "\n",
        "# At this point, you can't do this:\n",
        "# model.weights\n",
        "\n",
        "# You also can't do this:\n",
        "# model.summary()\n",
        "\n",
        "# Call the model on a test input\n",
        "x = d.Hamiltonian_mb\n",
        "y = model(x)\n",
        "print(\"Number of weights after calling the model:\", len(model.weights))  # 6"
      ],
      "metadata": {
        "colab": {
          "base_uri": "https://localhost:8080/"
        },
        "id": "wAIzxgv0bLdZ",
        "outputId": "977fb9da-1ce1-40d4-c076-ad0e5f8538ac"
      },
      "execution_count": null,
      "outputs": [
        {
          "output_type": "stream",
          "name": "stdout",
          "text": [
            "Number of weights after calling the model: 6\n"
          ]
        }
      ]
    },
    {
      "cell_type": "code",
      "source": [
        "model.summary()\n",
        "#print(model.summary())"
      ],
      "metadata": {
        "colab": {
          "base_uri": "https://localhost:8080/"
        },
        "id": "oaz222H9bTeP",
        "outputId": "c8d7231d-d6af-4225-8a5c-b4c40eaef494"
      },
      "execution_count": null,
      "outputs": [
        {
          "output_type": "stream",
          "name": "stdout",
          "text": [
            "Model: \"sequential_2\"\n",
            "_________________________________________________________________\n",
            " Layer (type)                Output Shape              Param #   \n",
            "=================================================================\n",
            " dense_4 (Dense)             (9, 2)                    20        \n",
            "                                                                 \n",
            " dense_5 (Dense)             (9, 3)                    9         \n",
            "                                                                 \n",
            " dense_6 (Dense)             (9, 4)                    16        \n",
            "                                                                 \n",
            "=================================================================\n",
            "Total params: 45\n",
            "Trainable params: 45\n",
            "Non-trainable params: 0\n",
            "_________________________________________________________________\n"
          ]
        }
      ]
    },
    {
      "cell_type": "code",
      "source": [
        "model = keras.Sequential()\n",
        "model.add(keras.Input(shape=(4,)))\n",
        "model.add(layers.Dense(2, activation=\"relu\"))\n",
        "\n",
        "model.summary()"
      ],
      "metadata": {
        "colab": {
          "base_uri": "https://localhost:8080/"
        },
        "id": "8PUbo0Jjb3Mc",
        "outputId": "9373694c-44cc-4fff-b870-f1682b923f50"
      },
      "execution_count": null,
      "outputs": [
        {
          "output_type": "stream",
          "name": "stdout",
          "text": [
            "Model: \"sequential_3\"\n",
            "_________________________________________________________________\n",
            " Layer (type)                Output Shape              Param #   \n",
            "=================================================================\n",
            " dense_7 (Dense)             (None, 2)                 10        \n",
            "                                                                 \n",
            "=================================================================\n",
            "Total params: 10\n",
            "Trainable params: 10\n",
            "Non-trainable params: 0\n",
            "_________________________________________________________________\n"
          ]
        }
      ]
    },
    {
      "cell_type": "code",
      "source": [
        "model.layers"
      ],
      "metadata": {
        "colab": {
          "base_uri": "https://localhost:8080/"
        },
        "id": "KYYIVOnkb5He",
        "outputId": "5b68bd2d-f771-4ac5-bb03-ff27a95f4f94"
      },
      "execution_count": null,
      "outputs": [
        {
          "output_type": "execute_result",
          "data": {
            "text/plain": [
              "[<keras.layers.core.dense.Dense at 0x7fe2d0159550>]"
            ]
          },
          "metadata": {},
          "execution_count": 16
        }
      ]
    },
    {
      "cell_type": "code",
      "source": [
        "model = keras.Sequential()\n",
        "model.add(layers.Dense(2, activation=\"relu\", input_shape=(4,)))\n",
        "\n",
        "model.summary()"
      ],
      "metadata": {
        "colab": {
          "base_uri": "https://localhost:8080/"
        },
        "id": "XhMgRRoIb7JB",
        "outputId": "c1ef0e0a-6a41-45f6-ccc1-f3f765201f38"
      },
      "execution_count": null,
      "outputs": [
        {
          "output_type": "stream",
          "name": "stdout",
          "text": [
            "Model: \"sequential_4\"\n",
            "_________________________________________________________________\n",
            " Layer (type)                Output Shape              Param #   \n",
            "=================================================================\n",
            " dense_8 (Dense)             (None, 2)                 10        \n",
            "                                                                 \n",
            "=================================================================\n",
            "Total params: 10\n",
            "Trainable params: 10\n",
            "Non-trainable params: 0\n",
            "_________________________________________________________________\n"
          ]
        }
      ]
    },
    {
      "cell_type": "code",
      "source": [
        "model = keras.Sequential()\n",
        "model.add(keras.Input(shape=(250, 250, 3)))  # 250x250 RGB images\n",
        "model.add(layers.Conv2D(32, 5, strides=2, activation=\"relu\"))\n",
        "model.add(layers.Conv2D(32, 3, activation=\"relu\"))\n",
        "model.add(layers.MaxPooling2D(3))\n",
        "\n",
        "# Can you guess what the current output shape is at this point? Probably not.\n",
        "# Let's just print it:\n",
        "model.summary()\n",
        "\n",
        "# The answer was: (40, 40, 32), so we can keep downsampling...\n",
        "\n",
        "model.add(layers.Conv2D(32, 3, activation=\"relu\"))\n",
        "model.add(layers.Conv2D(32, 3, activation=\"relu\"))\n",
        "model.add(layers.MaxPooling2D(3))\n",
        "model.add(layers.Conv2D(32, 3, activation=\"relu\"))\n",
        "model.add(layers.Conv2D(32, 3, activation=\"relu\"))\n",
        "model.add(layers.MaxPooling2D(2))\n",
        "\n",
        "# And now?\n",
        "model.summary()\n",
        "\n",
        "# Now that we have 4x4 feature maps, time to apply global max pooling.\n",
        "model.add(layers.GlobalMaxPooling2D())\n",
        "\n",
        "# Finally, we add a classification layer.\n",
        "model.add(layers.Dense(10))"
      ],
      "metadata": {
        "colab": {
          "base_uri": "https://localhost:8080/"
        },
        "id": "qoCwZAgtb9w8",
        "outputId": "b3f93dea-ddc0-452a-fbf1-a5b21813aa08"
      },
      "execution_count": null,
      "outputs": [
        {
          "output_type": "stream",
          "name": "stdout",
          "text": [
            "Model: \"sequential_5\"\n",
            "_________________________________________________________________\n",
            " Layer (type)                Output Shape              Param #   \n",
            "=================================================================\n",
            " conv2d (Conv2D)             (None, 123, 123, 32)      2432      \n",
            "                                                                 \n",
            " conv2d_1 (Conv2D)           (None, 121, 121, 32)      9248      \n",
            "                                                                 \n",
            " max_pooling2d (MaxPooling2D  (None, 40, 40, 32)       0         \n",
            " )                                                               \n",
            "                                                                 \n",
            "=================================================================\n",
            "Total params: 11,680\n",
            "Trainable params: 11,680\n",
            "Non-trainable params: 0\n",
            "_________________________________________________________________\n",
            "Model: \"sequential_5\"\n",
            "_________________________________________________________________\n",
            " Layer (type)                Output Shape              Param #   \n",
            "=================================================================\n",
            " conv2d (Conv2D)             (None, 123, 123, 32)      2432      \n",
            "                                                                 \n",
            " conv2d_1 (Conv2D)           (None, 121, 121, 32)      9248      \n",
            "                                                                 \n",
            " max_pooling2d (MaxPooling2D  (None, 40, 40, 32)       0         \n",
            " )                                                               \n",
            "                                                                 \n",
            " conv2d_2 (Conv2D)           (None, 38, 38, 32)        9248      \n",
            "                                                                 \n",
            " conv2d_3 (Conv2D)           (None, 36, 36, 32)        9248      \n",
            "                                                                 \n",
            " max_pooling2d_1 (MaxPooling  (None, 12, 12, 32)       0         \n",
            " 2D)                                                             \n",
            "                                                                 \n",
            " conv2d_4 (Conv2D)           (None, 10, 10, 32)        9248      \n",
            "                                                                 \n",
            " conv2d_5 (Conv2D)           (None, 8, 8, 32)          9248      \n",
            "                                                                 \n",
            " max_pooling2d_2 (MaxPooling  (None, 4, 4, 32)         0         \n",
            " 2D)                                                             \n",
            "                                                                 \n",
            "=================================================================\n",
            "Total params: 48,672\n",
            "Trainable params: 48,672\n",
            "Non-trainable params: 0\n",
            "_________________________________________________________________\n"
          ]
        }
      ]
    },
    {
      "cell_type": "code",
      "source": [
        "print(type(model))"
      ],
      "metadata": {
        "colab": {
          "base_uri": "https://localhost:8080/"
        },
        "id": "gFrsXjYh6YyB",
        "outputId": "5bb04a75-7c0b-4066-de22-6b422d21967d"
      },
      "execution_count": null,
      "outputs": [
        {
          "output_type": "stream",
          "name": "stdout",
          "text": [
            "<class 'keras.engine.sequential.Sequential'>\n"
          ]
        }
      ]
    },
    {
      "cell_type": "code",
      "source": [
        "plt.plot(x,y)\n",
        "print('shape of x',np.shape(x))\n",
        "plt.yscale('log')"
      ],
      "metadata": {
        "colab": {
          "base_uri": "https://localhost:8080/",
          "height": 317
        },
        "id": "fXw2uDANYnp6",
        "outputId": "8b31e923-5227-4340-b582-30d8aaa96595"
      },
      "execution_count": null,
      "outputs": [
        {
          "output_type": "stream",
          "name": "stdout",
          "text": [
            "shape of x"
          ]
        },
        {
          "output_type": "stream",
          "name": "stderr",
          "text": [
            "/usr/local/lib/python3.7/dist-packages/ipykernel_launcher.py:1: MatplotlibDeprecationWarning: cycling among columns of inputs with non-matching shapes is deprecated.\n",
            "  \"\"\"Entry point for launching an IPython kernel.\n"
          ]
        },
        {
          "output_type": "stream",
          "name": "stdout",
          "text": [
            " (9, 9)\n"
          ]
        },
        {
          "output_type": "display_data",
          "data": {
            "text/plain": [
              "<Figure size 432x288 with 1 Axes>"
            ],
            "image/png": "[encoded data removed]"
          },
          "metadata": {
            "image/png": {
              "width": 379,
              "height": 248
            },
            "needs_background": "light"
          }
        }
      ]
    },
    {
      "cell_type": "code",
      "source": [
        "initial_model = keras.Sequential(\n",
        "    [\n",
        "        keras.Input(shape= np.reshape(np.shape(x)),\n",
        "        layers.Conv2D(32, 5, strides=2, activation=\"relu\"),\n",
        "        layers.Conv2D(32, 3, activation=\"relu\"),\n",
        "        layers.Conv2D(32, 3, activation=\"relu\"),\n",
        "    ]\n",
        ")\n",
        "\n",
        "\n",
        "\n",
        "feature_extractor = keras.Model(\n",
        "    inputs=initial_model.inputs,\n",
        "    outputs=[layer.output for layer in initial_model.layers],\n",
        ")\n",
        "\n",
        "\n",
        "\n",
        "print('feature_extractor',type(feature_extractor))\n",
        "\n",
        "# Call feature extractor on test input.\n",
        "x = d.Hamiltonian_mb\n",
        "features = feature_extractor(x.tolist)"
      ],
      "metadata": {
        "colab": {
          "base_uri": "https://localhost:8080/",
          "height": 236
        },
        "id": "IQ3RpECucCOB",
        "outputId": "fbbcd6b0-38c4-4e3a-8378-884c8fe8a7e1"
      },
      "execution_count": null,
      "outputs": [
        {
          "output_type": "error",
          "ename": "AttributeError",
          "evalue": "ignored",
          "traceback": [
            "\u001b[0;31m---------------------------------------------------------------------------\u001b[0m",
            "\u001b[0;31mAttributeError\u001b[0m                            Traceback (most recent call last)",
            "\u001b[0;32m<ipython-input-23-f39c8a5ea971>\u001b[0m in \u001b[0;36m<module>\u001b[0;34m\u001b[0m\n\u001b[1;32m      1\u001b[0m initial_model = keras.Sequential(\n\u001b[1;32m      2\u001b[0m     [\n\u001b[0;32m----> 3\u001b[0;31m         \u001b[0mkeras\u001b[0m\u001b[0;34m.\u001b[0m\u001b[0mInput\u001b[0m\u001b[0;34m(\u001b[0m\u001b[0mshape\u001b[0m\u001b[0;34m=\u001b[0m \u001b[0mnp\u001b[0m\u001b[0;34m.\u001b[0m\u001b[0mshape\u001b[0m\u001b[0;34m(\u001b[0m\u001b[0mx\u001b[0m\u001b[0;34m)\u001b[0m\u001b[0;34m.\u001b[0m\u001b[0mreshape\u001b[0m\u001b[0;34m(\u001b[0m\u001b[0;36m4\u001b[0m\u001b[0;34m,\u001b[0m\u001b[0;36m3\u001b[0m\u001b[0;34m)\u001b[0m  \u001b[0;34m)\u001b[0m\u001b[0;34m,\u001b[0m\u001b[0;34m\u001b[0m\u001b[0;34m\u001b[0m\u001b[0m\n\u001b[0m\u001b[1;32m      4\u001b[0m         \u001b[0mlayers\u001b[0m\u001b[0;34m.\u001b[0m\u001b[0mConv2D\u001b[0m\u001b[0;34m(\u001b[0m\u001b[0;36m32\u001b[0m\u001b[0;34m,\u001b[0m \u001b[0;36m5\u001b[0m\u001b[0;34m,\u001b[0m \u001b[0mstrides\u001b[0m\u001b[0;34m=\u001b[0m\u001b[0;36m2\u001b[0m\u001b[0;34m,\u001b[0m \u001b[0mactivation\u001b[0m\u001b[0;34m=\u001b[0m\u001b[0;34m\"relu\"\u001b[0m\u001b[0;34m)\u001b[0m\u001b[0;34m,\u001b[0m\u001b[0;34m\u001b[0m\u001b[0;34m\u001b[0m\u001b[0m\n\u001b[1;32m      5\u001b[0m         \u001b[0mlayers\u001b[0m\u001b[0;34m.\u001b[0m\u001b[0mConv2D\u001b[0m\u001b[0;34m(\u001b[0m\u001b[0;36m32\u001b[0m\u001b[0;34m,\u001b[0m \u001b[0;36m3\u001b[0m\u001b[0;34m,\u001b[0m \u001b[0mactivation\u001b[0m\u001b[0;34m=\u001b[0m\u001b[0;34m\"relu\"\u001b[0m\u001b[0;34m)\u001b[0m\u001b[0;34m,\u001b[0m\u001b[0;34m\u001b[0m\u001b[0;34m\u001b[0m\u001b[0m\n",
            "\u001b[0;31mAttributeError\u001b[0m: 'tuple' object has no attribute 'reshape'"
          ]
        }
      ]
    },
    {
      "cell_type": "code",
      "source": [
        "tf.keras.Sequential(layers=None, name=None)\n",
        "# Optionally, the first layer can receive an `input_shape` argument:\n",
        "model = tf.keras.Sequential()\n",
        "model.add(tf.keras.layers.Dense(8, input_shape=(16,)))\n",
        "# Afterwards, we do automatic shape inference:\n",
        "model.add(tf.keras.layers.Dense(4))\n",
        "\n",
        "# This is identical to the following:\n",
        "model = tf.keras.Sequential()\n",
        "model.add(tf.keras.Input(shape=(16,)))\n",
        "model.add(tf.keras.layers.Dense(8))\n",
        "\n",
        "# Note that you can also omit the `input_shape` argument.\n",
        "# In that case the model doesn't have any weights until the first call\n",
        "# to a training/evaluation method (since it isn't yet built):\n",
        "model = tf.keras.Sequential()\n",
        "model.add(tf.keras.layers.Dense(8))\n",
        "model.add(tf.keras.layers.Dense(4))\n",
        "# model.weights not created yet\n",
        "\n",
        "# Whereas if you specify the input shape, the model gets built\n",
        "# continuously as you are adding layers:\n",
        "model = tf.keras.Sequential()\n",
        "model.add(tf.keras.layers.Dense(8, input_shape=(16,)))\n",
        "model.add(tf.keras.layers.Dense(4))\n",
        "len(model.weights)\n",
        "# Returns \"4\"\n",
        "\n",
        "# When using the delayed-build pattern (no input shape specified), you can\n",
        "# choose to manually build your model by calling\n",
        "# `build(batch_input_shape)`:\n",
        "model = tf.keras.Sequential()\n",
        "model.add(tf.keras.layers.Dense(8))\n",
        "model.add(tf.keras.layers.Dense(4))\n",
        "model.build((None, 16))\n",
        "len(model.weights)\n",
        "# Returns \"4\"\n",
        "\n",
        "# Note that when using the delayed-build pattern (no input shape specified),\n",
        "# the model gets built the first time you call `fit`, `eval`, or `predict`,\n",
        "# or the first time you call the model on some input data.\n",
        "model = tf.keras.Sequential()\n",
        "model.add(tf.keras.layers.Dense(8))\n",
        "model.add(tf.keras.layers.Dense(1))\n",
        "model.compile(optimizer='sgd', loss='mse')\n",
        "# This builds the model for the first time:\n",
        "model.fit(x, y, batch_size=32, epochs=10)"
      ],
      "metadata": {
        "id": "jWrCnmmUcL5O"
      },
      "execution_count": null,
      "outputs": []
    },
    {
      "cell_type": "code",
      "source": [
        "pip install pysindy"
      ],
      "metadata": {
        "id": "x8Hiff6wdOg9"
      },
      "execution_count": null,
      "outputs": []
    },
    {
      "cell_type": "code",
      "source": [
        "import matplotlib.pyplot as plt\n",
        "from mpl_toolkits.mplot3d import Axes3D\n",
        "from matplotlib.cm import rainbow\n",
        "import numpy as np\n",
        "from scipy.integrate import solve_ivp\n",
        "from scipy.io import loadmat\n",
        "import pandas as pd\n",
        "\n",
        "import pysindy as ps"
      ],
      "metadata": {
        "id": "aJRZmYsq2vRf"
      },
      "execution_count": null,
      "outputs": []
    },
    {
      "cell_type": "code",
      "source": [
        "# Load .mat file with the POD data\n",
        "data = d.Hamiltonian_mb\n",
        "t_dns = data.flatten()\n",
        "dt_dns = t_dns[1] - t_dns[0]\n",
        "a_dns = data\n",
        "singular_vals = data.flatten()\n",
        "\n",
        "# Plot singular values, sorted by energy content and normalized to the sum\n",
        "plt.figure(figsize=(8, 3))\n",
        "plt.semilogy(1 + np.arange(len(singular_vals)), \n",
        "             singular_vals / sum(singular_vals), 'k.')\n",
        "plt.grid()\n",
        "plt.xlim([0, 80])\n",
        "plt.ylim([1e-6, 1e0])\n",
        "plt.ylabel(\"% energy\")\n",
        "plt.xlabel(\"Mode index\")"
      ],
      "metadata": {
        "id": "ahTVVwt-2ysL"
      },
      "execution_count": null,
      "outputs": []
    },
    {
      "cell_type": "code",
      "source": [
        "# Basic power spectral density estimate using FFT\n",
        "def psd_est(E, dt=1):\n",
        "    Ehat = np.abs((dt * np.fft.fft(E)) ** 2)\n",
        "    Ehat = Ehat[:int(len(Ehat) / 2)]\n",
        "    N = len(Ehat)\n",
        "    freq = 2 * np.pi * np.arange(N) / (2 * dt * N)  # Frequencies in rad/s\n",
        "    return Ehat, freq\n",
        "\n",
        "E_dns = np.sum(a_dns ** 2, axis=1)  # kinetic energy\n",
        "psd, freq = psd_est(E_dns, dt=dt_dns)\n",
        "    \n",
        "# Plot the power spectral density\n",
        "plt.figure(figsize=(12, 2.5))\n",
        "plt.semilogy(freq, psd, 'k', lw=3)\n",
        "plt.xlim([0, 28])\n",
        "plt.ylim([1e-10, 1e-2])\n",
        "plt.xlabel('$\\omega$')\n",
        "plt.ylabel('$\\log(E)$')\n",
        "plt.grid(True)"
      ],
      "metadata": {
        "id": "_JPRxQqz3CSk"
      },
      "execution_count": null,
      "outputs": []
    },
    {
      "cell_type": "code",
      "source": [],
      "metadata": {
        "id": "3MFYSDaP3Nof"
      },
      "execution_count": null,
      "outputs": []
    }
  ]
}